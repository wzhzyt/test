{
 "cells": [
  {
   "cell_type": "code",
   "execution_count": 109,
   "id": "initial_id",
   "metadata": {
    "collapsed": true,
    "ExecuteTime": {
     "end_time": "2023-08-25T02:47:36.086214500Z",
     "start_time": "2023-08-25T02:47:36.071215Z"
    }
   },
   "outputs": [],
   "source": [
    "from pyrca.analyzers.bayesian import BayesianNetwork\n",
    "import pandas as pd\n",
    "import json"
   ]
  },
  {
   "cell_type": "code",
   "execution_count": 110,
   "outputs": [],
   "source": [
    "with open('data/data.json', encoding=\"utf-8\") as f:\n",
    "    data = json.load(f)\n",
    "    \n",
    "data = {k:v for k,v in list(data.items())[:20]}"
   ],
   "metadata": {
    "collapsed": false,
    "ExecuteTime": {
     "end_time": "2023-08-25T02:47:36.121217300Z",
     "start_time": "2023-08-25T02:47:36.078214Z"
    }
   },
   "id": "f2eeafedb60ab222"
  },
  {
   "cell_type": "code",
   "execution_count": 111,
   "outputs": [],
   "source": [
    "symptoms = set()\n",
    "for disease in data.values():\n",
    "    symptoms.update(disease['keys']['common_keys'])"
   ],
   "metadata": {
    "collapsed": false,
    "ExecuteTime": {
     "end_time": "2023-08-25T02:47:36.126214300Z",
     "start_time": "2023-08-25T02:47:36.092214600Z"
    }
   },
   "id": "55938cd561e9ee03"
  },
  {
   "cell_type": "code",
   "execution_count": 112,
   "outputs": [],
   "source": [
    "nodes = list(symptoms | data.keys())\n",
    "df = pd.DataFrame(0, index=list(data.keys()), columns=list(symptoms))\n",
    "graph_df = pd.DataFrame(0, index=nodes, columns=nodes)\n",
    "for disease, info in data.items():\n",
    "    for symptom in info['keys']['common_keys']:\n",
    "        df.at[disease, symptom] = 1\n",
    "for disease, info in data.items():\n",
    "    for symptom in info['keys']['common_keys']:\n",
    "        graph_df.at[disease, symptom] = 1"
   ],
   "metadata": {
    "collapsed": false,
    "ExecuteTime": {
     "end_time": "2023-08-25T02:47:36.127218500Z",
     "start_time": "2023-08-25T02:47:36.109214200Z"
    }
   },
   "id": "c182d8770f358545"
  },
  {
   "cell_type": "code",
   "execution_count": 113,
   "outputs": [
    {
     "data": {
      "text/plain": "                   阵挛  多动  兴趣缺乏  性高潮明显延迟（FOD）  停止或减少酒精摄入  常常说太多的话  阿片类药物过量  \\\n阵挛                  0   0     0             0          0        0        0   \n多动                  0   0     0             0          0        0        0   \n兴趣缺乏                0   0     0             0          0        0        0   \n性高潮明显延迟（FOD）        0   0     0             0          0        0        0   \n停止或减少酒精摄入           0   0     0             0          0        0        0   \n...                ..  ..   ...           ...        ...      ...      ...   \n产后抑郁                0   0     1             0          0        0        0   \n难以将注意力集中于任务         0   0     0             0          0        0        0   \n经常在需要保持坐立的情境中离开座位   0   0     0             0          0        0        0   \n反射亢进和阵挛             0   0     0             0          0        0        0   \n自杀观念                0   0     0             0          0        0        0   \n\n                   组织计划困难  通常难以按顺序等候（例如，排队时）  焦虑不是有因使用药物或物质滥用所致  ...  \\\n阵挛                      0                  0                  0  ...   \n多动                      0                  0                  0  ...   \n兴趣缺乏                    0                  0                  0  ...   \n性高潮明显延迟（FOD）            0                  0                  0  ...   \n停止或减少酒精摄入               0                  0                  0  ...   \n...                   ...                ...                ...  ...   \n产后抑郁                    0                  0                  0  ...   \n难以将注意力集中于任务             0                  0                  0  ...   \n经常在需要保持坐立的情境中离开座位       0                  0                  0  ...   \n反射亢进和阵挛                 0                  0                  0  ...   \n自杀观念                    0                  0                  0  ...   \n\n                   经常忙个不停，行为像是“被马达所驱动”着  处理信息的速度减慢  寻求刺激的行为  \\\n阵挛                                    0          0        0   \n多动                                    0          0        0   \n兴趣缺乏                                  0          0        0   \n性高潮明显延迟（FOD）                          0          0        0   \n停止或减少酒精摄入                             0          0        0   \n...                                 ...        ...      ...   \n产后抑郁                                  0          0        0   \n难以将注意力集中于任务                           0          0        0   \n经常在需要保持坐立的情境中离开座位                     0          0        0   \n反射亢进和阵挛                               0          0        0   \n自杀观念                                  0          0        0   \n\n                   回避、厌恶或不愿参加需要持续脑力劳动的任务  不合理的自责或过度且不恰当的内疚  产后抑郁  难以将注意力集中于任务  \\\n阵挛                                     0                 0     0            0   \n多动                                     0                 0     0            0   \n兴趣缺乏                                   0                 0     0            0   \n性高潮明显延迟（FOD）                           0                 0     0            0   \n停止或减少酒精摄入                              0                 0     0            0   \n...                                  ...               ...   ...          ...   \n产后抑郁                                   0                 1     0            0   \n难以将注意力集中于任务                            0                 0     0            0   \n经常在需要保持坐立的情境中离开座位                      0                 0     0            0   \n反射亢进和阵挛                                0                 0     0            0   \n自杀观念                                   0                 0     0            0   \n\n                   经常在需要保持坐立的情境中离开座位  反射亢进和阵挛  自杀观念  \n阵挛                                 0        0     0  \n多动                                 0        0     0  \n兴趣缺乏                               0        0     0  \n性高潮明显延迟（FOD）                       0        0     0  \n停止或减少酒精摄入                          0        0     0  \n...                              ...      ...   ...  \n产后抑郁                               0        0     1  \n难以将注意力集中于任务                        0        0     0  \n经常在需要保持坐立的情境中离开座位                  0        0     0  \n反射亢进和阵挛                            0        0     0  \n自杀观念                               0        0     0  \n\n[128 rows x 128 columns]",
      "text/html": "<div>\n<style scoped>\n    .dataframe tbody tr th:only-of-type {\n        vertical-align: middle;\n    }\n\n    .dataframe tbody tr th {\n        vertical-align: top;\n    }\n\n    .dataframe thead th {\n        text-align: right;\n    }\n</style>\n<table border=\"1\" class=\"dataframe\">\n  <thead>\n    <tr style=\"text-align: right;\">\n      <th></th>\n      <th>阵挛</th>\n      <th>多动</th>\n      <th>兴趣缺乏</th>\n      <th>性高潮明显延迟（FOD）</th>\n      <th>停止或减少酒精摄入</th>\n      <th>常常说太多的话</th>\n      <th>阿片类药物过量</th>\n      <th>组织计划困难</th>\n      <th>通常难以按顺序等候（例如，排队时）</th>\n      <th>焦虑不是有因使用药物或物质滥用所致</th>\n      <th>...</th>\n      <th>经常忙个不停，行为像是“被马达所驱动”着</th>\n      <th>处理信息的速度减慢</th>\n      <th>寻求刺激的行为</th>\n      <th>回避、厌恶或不愿参加需要持续脑力劳动的任务</th>\n      <th>不合理的自责或过度且不恰当的内疚</th>\n      <th>产后抑郁</th>\n      <th>难以将注意力集中于任务</th>\n      <th>经常在需要保持坐立的情境中离开座位</th>\n      <th>反射亢进和阵挛</th>\n      <th>自杀观念</th>\n    </tr>\n  </thead>\n  <tbody>\n    <tr>\n      <th>阵挛</th>\n      <td>0</td>\n      <td>0</td>\n      <td>0</td>\n      <td>0</td>\n      <td>0</td>\n      <td>0</td>\n      <td>0</td>\n      <td>0</td>\n      <td>0</td>\n      <td>0</td>\n      <td>...</td>\n      <td>0</td>\n      <td>0</td>\n      <td>0</td>\n      <td>0</td>\n      <td>0</td>\n      <td>0</td>\n      <td>0</td>\n      <td>0</td>\n      <td>0</td>\n      <td>0</td>\n    </tr>\n    <tr>\n      <th>多动</th>\n      <td>0</td>\n      <td>0</td>\n      <td>0</td>\n      <td>0</td>\n      <td>0</td>\n      <td>0</td>\n      <td>0</td>\n      <td>0</td>\n      <td>0</td>\n      <td>0</td>\n      <td>...</td>\n      <td>0</td>\n      <td>0</td>\n      <td>0</td>\n      <td>0</td>\n      <td>0</td>\n      <td>0</td>\n      <td>0</td>\n      <td>0</td>\n      <td>0</td>\n      <td>0</td>\n    </tr>\n    <tr>\n      <th>兴趣缺乏</th>\n      <td>0</td>\n      <td>0</td>\n      <td>0</td>\n      <td>0</td>\n      <td>0</td>\n      <td>0</td>\n      <td>0</td>\n      <td>0</td>\n      <td>0</td>\n      <td>0</td>\n      <td>...</td>\n      <td>0</td>\n      <td>0</td>\n      <td>0</td>\n      <td>0</td>\n      <td>0</td>\n      <td>0</td>\n      <td>0</td>\n      <td>0</td>\n      <td>0</td>\n      <td>0</td>\n    </tr>\n    <tr>\n      <th>性高潮明显延迟（FOD）</th>\n      <td>0</td>\n      <td>0</td>\n      <td>0</td>\n      <td>0</td>\n      <td>0</td>\n      <td>0</td>\n      <td>0</td>\n      <td>0</td>\n      <td>0</td>\n      <td>0</td>\n      <td>...</td>\n      <td>0</td>\n      <td>0</td>\n      <td>0</td>\n      <td>0</td>\n      <td>0</td>\n      <td>0</td>\n      <td>0</td>\n      <td>0</td>\n      <td>0</td>\n      <td>0</td>\n    </tr>\n    <tr>\n      <th>停止或减少酒精摄入</th>\n      <td>0</td>\n      <td>0</td>\n      <td>0</td>\n      <td>0</td>\n      <td>0</td>\n      <td>0</td>\n      <td>0</td>\n      <td>0</td>\n      <td>0</td>\n      <td>0</td>\n      <td>...</td>\n      <td>0</td>\n      <td>0</td>\n      <td>0</td>\n      <td>0</td>\n      <td>0</td>\n      <td>0</td>\n      <td>0</td>\n      <td>0</td>\n      <td>0</td>\n      <td>0</td>\n    </tr>\n    <tr>\n      <th>...</th>\n      <td>...</td>\n      <td>...</td>\n      <td>...</td>\n      <td>...</td>\n      <td>...</td>\n      <td>...</td>\n      <td>...</td>\n      <td>...</td>\n      <td>...</td>\n      <td>...</td>\n      <td>...</td>\n      <td>...</td>\n      <td>...</td>\n      <td>...</td>\n      <td>...</td>\n      <td>...</td>\n      <td>...</td>\n      <td>...</td>\n      <td>...</td>\n      <td>...</td>\n      <td>...</td>\n    </tr>\n    <tr>\n      <th>产后抑郁</th>\n      <td>0</td>\n      <td>0</td>\n      <td>1</td>\n      <td>0</td>\n      <td>0</td>\n      <td>0</td>\n      <td>0</td>\n      <td>0</td>\n      <td>0</td>\n      <td>0</td>\n      <td>...</td>\n      <td>0</td>\n      <td>0</td>\n      <td>0</td>\n      <td>0</td>\n      <td>1</td>\n      <td>0</td>\n      <td>0</td>\n      <td>0</td>\n      <td>0</td>\n      <td>1</td>\n    </tr>\n    <tr>\n      <th>难以将注意力集中于任务</th>\n      <td>0</td>\n      <td>0</td>\n      <td>0</td>\n      <td>0</td>\n      <td>0</td>\n      <td>0</td>\n      <td>0</td>\n      <td>0</td>\n      <td>0</td>\n      <td>0</td>\n      <td>...</td>\n      <td>0</td>\n      <td>0</td>\n      <td>0</td>\n      <td>0</td>\n      <td>0</td>\n      <td>0</td>\n      <td>0</td>\n      <td>0</td>\n      <td>0</td>\n      <td>0</td>\n    </tr>\n    <tr>\n      <th>经常在需要保持坐立的情境中离开座位</th>\n      <td>0</td>\n      <td>0</td>\n      <td>0</td>\n      <td>0</td>\n      <td>0</td>\n      <td>0</td>\n      <td>0</td>\n      <td>0</td>\n      <td>0</td>\n      <td>0</td>\n      <td>...</td>\n      <td>0</td>\n      <td>0</td>\n      <td>0</td>\n      <td>0</td>\n      <td>0</td>\n      <td>0</td>\n      <td>0</td>\n      <td>0</td>\n      <td>0</td>\n      <td>0</td>\n    </tr>\n    <tr>\n      <th>反射亢进和阵挛</th>\n      <td>0</td>\n      <td>0</td>\n      <td>0</td>\n      <td>0</td>\n      <td>0</td>\n      <td>0</td>\n      <td>0</td>\n      <td>0</td>\n      <td>0</td>\n      <td>0</td>\n      <td>...</td>\n      <td>0</td>\n      <td>0</td>\n      <td>0</td>\n      <td>0</td>\n      <td>0</td>\n      <td>0</td>\n      <td>0</td>\n      <td>0</td>\n      <td>0</td>\n      <td>0</td>\n    </tr>\n    <tr>\n      <th>自杀观念</th>\n      <td>0</td>\n      <td>0</td>\n      <td>0</td>\n      <td>0</td>\n      <td>0</td>\n      <td>0</td>\n      <td>0</td>\n      <td>0</td>\n      <td>0</td>\n      <td>0</td>\n      <td>...</td>\n      <td>0</td>\n      <td>0</td>\n      <td>0</td>\n      <td>0</td>\n      <td>0</td>\n      <td>0</td>\n      <td>0</td>\n      <td>0</td>\n      <td>0</td>\n      <td>0</td>\n    </tr>\n  </tbody>\n</table>\n<p>128 rows × 128 columns</p>\n</div>"
     },
     "execution_count": 113,
     "metadata": {},
     "output_type": "execute_result"
    }
   ],
   "source": [
    "graph_df"
   ],
   "metadata": {
    "collapsed": false,
    "ExecuteTime": {
     "end_time": "2023-08-25T02:47:36.140214900Z",
     "start_time": "2023-08-25T02:47:36.126214300Z"
    }
   },
   "id": "552a1c5626d631fa"
  },
  {
   "cell_type": "code",
   "execution_count": 114,
   "outputs": [],
   "source": [
    "model = BayesianNetwork(config=BayesianNetwork.config_class(graph=graph_df))"
   ],
   "metadata": {
    "collapsed": false,
    "ExecuteTime": {
     "end_time": "2023-08-25T02:47:36.163217600Z",
     "start_time": "2023-08-25T02:47:36.140214900Z"
    }
   },
   "id": "c9c2086bba669d69"
  },
  {
   "cell_type": "code",
   "execution_count": 115,
   "outputs": [],
   "source": [
    "test_data = [[0 for i in range(128)] for j in range(128)]\n",
    "data_df = pd.DataFrame(test_data, columns=nodes)\n",
    "for i, (disease, info) in enumerate(data.items()):\n",
    "    for symptom in info['keys']['common_keys']:\n",
    "        data_df.at[i, symptom] = 1\n",
    "        data_df.at[i, disease] = 1"
   ],
   "metadata": {
    "collapsed": false,
    "ExecuteTime": {
     "end_time": "2023-08-25T02:47:36.217217700Z",
     "start_time": "2023-08-25T02:47:36.157218700Z"
    }
   },
   "id": "e783ca52b22e97c4"
  },
  {
   "cell_type": "code",
   "execution_count": 116,
   "outputs": [],
   "source": [
    "# from pyrca.applications.example.rca import RCAEngine\n",
    "# engine = RCAEngine()\n",
    "# engine.build_causal_graph(\n",
    "#     df=graph_df,\n",
    "#     run_pdag2dag=True,\n",
    "#     max_num_points=5000000,\n",
    "#     verbose=True\n",
    "# )\n",
    "# bn = engine.train_bayesian_network(dfs=[data_df])\n",
    "# bn.print_probabilities()"
   ],
   "metadata": {
    "collapsed": false,
    "ExecuteTime": {
     "end_time": "2023-08-25T02:47:36.237218300Z",
     "start_time": "2023-08-25T02:47:36.173215400Z"
    }
   },
   "id": "db56029a983a8a69"
  },
  {
   "cell_type": "code",
   "execution_count": 117,
   "outputs": [
    {
     "name": "stderr",
     "output_type": "stream",
     "text": [
      "WARNING:root:Replacing existing CPD for 注意力不集中\n",
      "WARNING:root:Replacing existing CPD for 危险因素\n",
      "WARNING:root:Replacing existing CPD for 存在的危险因素\n"
     ]
    }
   ],
   "source": [
    "model.train([data_df])"
   ],
   "metadata": {
    "collapsed": false,
    "ExecuteTime": {
     "end_time": "2023-08-25T02:47:36.520850Z",
     "start_time": "2023-08-25T02:47:36.189214700Z"
    }
   },
   "id": "bcb1f0dbf6025db1"
  },
  {
   "cell_type": "code",
   "execution_count": 118,
   "outputs": [],
   "source": [
    "from difflib import SequenceMatcher"
   ],
   "metadata": {
    "collapsed": false,
    "ExecuteTime": {
     "end_time": "2023-08-25T02:47:36.566853800Z",
     "start_time": "2023-08-25T02:47:36.522849700Z"
    }
   },
   "id": "7556fc1da3fa869d"
  },
  {
   "cell_type": "code",
   "execution_count": 119,
   "outputs": [],
   "source": [
    "def sim_ratio(a, b):\n",
    "    return SequenceMatcher(None, a, b).ratio()"
   ],
   "metadata": {
    "collapsed": false,
    "ExecuteTime": {
     "end_time": "2023-08-25T02:47:36.572850200Z",
     "start_time": "2023-08-25T02:47:36.537850100Z"
    }
   },
   "id": "448d1015d319f9dd"
  },
  {
   "cell_type": "code",
   "execution_count": 120,
   "outputs": [],
   "source": [
    "predict_disease = []"
   ],
   "metadata": {
    "collapsed": false,
    "ExecuteTime": {
     "end_time": "2023-08-25T02:47:36.572850200Z",
     "start_time": "2023-08-25T02:47:36.553849200Z"
    }
   },
   "id": "9fc541f8edd732f2"
  },
  {
   "cell_type": "code",
   "execution_count": 121,
   "outputs": [],
   "source": [
    "def format_root_causes(results):\n",
    "    output = [\"可能疾病：\"]\n",
    "    for node, prob in results['root_cause_nodes']:\n",
    "        disease = node.split('_')[1]\n",
    "        predict_disease.append(disease)\n",
    "        line = f\"{disease}: {prob:.4f}\"\n",
    "        output.append(line)\n",
    "    return \"\\n\".join(output)"
   ],
   "metadata": {
    "collapsed": false,
    "ExecuteTime": {
     "end_time": "2023-08-25T02:47:36.585850800Z",
     "start_time": "2023-08-25T02:47:36.570850900Z"
    }
   },
   "id": "828e3363c719c050"
  },
  {
   "cell_type": "code",
   "execution_count": 122,
   "outputs": [],
   "source": [
    "def find_matched_nodes(symp_list):\n",
    "    matched_nodes = []\n",
    "    nodes = list(symptoms)\n",
    "    for symp in symp_list:\n",
    "        max_ratio = 0\n",
    "        matched_node = None\n",
    "        for node in nodes:\n",
    "            ratio = sim_ratio(symp, node)\n",
    "            if ratio > max_ratio:\n",
    "                max_ratio = ratio\n",
    "                matched_node = node\n",
    "        matched_nodes.append(matched_node)\n",
    "    return matched_nodes"
   ],
   "metadata": {
    "collapsed": false,
    "ExecuteTime": {
     "end_time": "2023-08-25T02:47:36.608853Z",
     "start_time": "2023-08-25T02:47:36.589850500Z"
    }
   },
   "id": "fd1e9d05209b0022"
  },
  {
   "cell_type": "code",
   "execution_count": 123,
   "outputs": [],
   "source": [
    "def print_invest1(disease_names):\n",
    "    print(\"推荐进行检查：\")\n",
    "    for disease_name in disease_names:\n",
    "        matched_disease = disease_name\n",
    "        if matched_disease:\n",
    "            print(f\"{matched_disease}:\")\n",
    "            invest1 = data[matched_disease]['invest1']\n",
    "            keys = []\n",
    "            for key in invest1:\n",
    "                keys.append(key)\n",
    "            print(\",\".join(keys))\n",
    "        else:\n",
    "            print(f\"No match found for {disease_name}\")"
   ],
   "metadata": {
    "collapsed": false,
    "ExecuteTime": {
     "end_time": "2023-08-25T02:47:36.616853800Z",
     "start_time": "2023-08-25T02:47:36.602849400Z"
    }
   },
   "id": "5d74bb69774c7535"
  },
  {
   "cell_type": "code",
   "execution_count": 124,
   "outputs": [],
   "source": [
    "def diagnose(symp_list, model):\n",
    "    matched_nodes = find_matched_nodes(symp_list)\n",
    "    print(format_root_causes(model.find_root_causes(matched_nodes).to_dict()))\n",
    "    print(\"------------------------------------------\")\n",
    "    print_invest1(predict_disease)\n",
    "    "
   ],
   "metadata": {
    "collapsed": false,
    "ExecuteTime": {
     "end_time": "2023-08-25T02:47:36.634850700Z",
     "start_time": "2023-08-25T02:47:36.617850300Z"
    }
   },
   "id": "5d760b52547940c5"
  },
  {
   "cell_type": "code",
   "execution_count": 125,
   "outputs": [],
   "source": [
    "symp_list = ['瞳孔小', '思维奇怪', '容易愤怒']"
   ],
   "metadata": {
    "collapsed": false,
    "ExecuteTime": {
     "end_time": "2023-08-25T02:47:36.647854900Z",
     "start_time": "2023-08-25T02:47:36.633850400Z"
    }
   },
   "id": "dc168f89ce0ec52a"
  },
  {
   "cell_type": "code",
   "execution_count": 126,
   "outputs": [
    {
     "name": "stderr",
     "output_type": "stream",
     "text": [
      "WARNING:root:Replacing existing CPD for 阿片类药物过量\n",
      "WARNING:root:Replacing existing CPD for 血管性痴呆\n",
      "WARNING:root:Replacing existing CPD for 苯丙胺过量\n",
      "WARNING:root:Replacing existing CPD for 女性性功能障碍\n",
      "WARNING:root:Replacing existing CPD for 自杀风险缓解\n",
      "WARNING:root:Replacing existing CPD for 精神性烦渴\n",
      "WARNING:root:Replacing existing CPD for 酒精戒断\n",
      "WARNING:root:Replacing existing CPD for 恐怖症\n",
      "WARNING:root:Replacing existing CPD for 成人注意缺陷多动症\n",
      "WARNING:root:Replacing existing CPD for 额颞叶痴呆\n",
      "WARNING:root:Replacing existing CPD for 苯二氮卓药物过量\n",
      "WARNING:root:Replacing existing CPD for 强迫症\n",
      "WARNING:root:Replacing existing CPD for 儿童抑郁症\n",
      "WARNING:root:Replacing existing CPD for 广泛性焦虑障碍\n",
      "WARNING:root:Replacing existing CPD for 5-羟色胺综合征\n",
      "WARNING:root:Replacing existing CPD for 人格障碍\n",
      "WARNING:root:Replacing existing CPD for 产后抑郁\n"
     ]
    },
    {
     "name": "stdout",
     "output_type": "stream",
     "text": [
      "WARNING: Metric 慢性酒精使用概述 is not in the Bayesian network.\n",
      "WARNING: Metric 痴呆评估 is not in the Bayesian network.\n",
      "WARNING: Metric 非故意体重减轻的评估 is not in the Bayesian network.\n"
     ]
    },
    {
     "name": "stderr",
     "output_type": "stream",
     "text": [
      "Finding Elimination Order: : 100%|██████████| 1/1 [00:00<00:00, 1003.66it/s]\n",
      "Eliminating: 阿片类药物过量: 100%|██████████| 1/1 [00:00<?, ?it/s]\n",
      "Finding Elimination Order: : 100%|██████████| 1/1 [00:00<00:00, 999.83it/s]\n",
      "Eliminating: 广泛性焦虑障碍: 100%|██████████| 1/1 [00:00<00:00, 1000.31it/s]\n",
      "Finding Elimination Order: : 100%|██████████| 1/1 [00:00<?, ?it/s]\n",
      "Eliminating: 人格障碍: 100%|██████████| 1/1 [00:00<00:00, 999.83it/s]\n",
      "Finding Elimination Order: : 100%|██████████| 1/1 [00:00<?, ?it/s]\n",
      "Eliminating: 阿片类药物过量: 100%|██████████| 1/1 [00:00<00:00, 999.83it/s]\n",
      "Finding Elimination Order: : 100%|██████████| 1/1 [00:00<?, ?it/s]\n",
      "Eliminating: ROOT_阿片类药物过量: 100%|██████████| 1/1 [00:00<00:00, 1003.90it/s]\n",
      "Finding Elimination Order: : 100%|██████████| 1/1 [00:00<00:00, 1003.66it/s]\n",
      "Eliminating: 广泛性焦虑障碍: 100%|██████████| 1/1 [00:00<00:00, 1002.70it/s]\n",
      "Finding Elimination Order: : 100%|██████████| 1/1 [00:00<00:00, 999.60it/s]\n",
      "Eliminating: ROOT_广泛性焦虑障碍: 100%|██████████| 1/1 [00:00<00:00, 999.83it/s]\n",
      "Finding Elimination Order: : 100%|██████████| 1/1 [00:00<?, ?it/s]\n",
      "Eliminating: 人格障碍: 100%|██████████| 1/1 [00:00<00:00, 1000.07it/s]\n",
      "Finding Elimination Order: : 100%|██████████| 1/1 [00:00<00:00, 1004.62it/s]\n",
      "Eliminating: ROOT_人格障碍: 100%|██████████| 1/1 [00:00<00:00, 998.64it/s]"
     ]
    },
    {
     "name": "stdout",
     "output_type": "stream",
     "text": [
      "可能疾病：\n",
      "阿片类药物过量: 0.9802\n",
      "广泛性焦虑障碍: 0.9802\n",
      "人格障碍: 0.9802\n",
      "------------------------------------------\n",
      "推荐进行检查：\n",
      "阿片类药物过量:\n",
      "纳洛酮治疗试验,心电图 (ECG)\n",
      "广泛性焦虑障碍:\n",
      "临床诊断\n",
      "人格障碍:\n",
      "临床访谈\n"
     ]
    },
    {
     "name": "stderr",
     "output_type": "stream",
     "text": [
      "\n"
     ]
    }
   ],
   "source": [
    "diagnose(symp_list, model)"
   ],
   "metadata": {
    "collapsed": false,
    "ExecuteTime": {
     "end_time": "2023-08-25T02:47:37.127854Z",
     "start_time": "2023-08-25T02:47:36.652853900Z"
    }
   },
   "id": "1fe067857eeed6ad"
  }
 ],
 "metadata": {
  "kernelspec": {
   "display_name": "Python 3",
   "language": "python",
   "name": "python3"
  },
  "language_info": {
   "codemirror_mode": {
    "name": "ipython",
    "version": 2
   },
   "file_extension": ".py",
   "mimetype": "text/x-python",
   "name": "python",
   "nbconvert_exporter": "python",
   "pygments_lexer": "ipython2",
   "version": "2.7.6"
  }
 },
 "nbformat": 4,
 "nbformat_minor": 5
}
